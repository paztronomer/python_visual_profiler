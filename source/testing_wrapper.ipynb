{
 "cells": [
  {
   "cell_type": "code",
   "execution_count": 3,
   "id": "75a0987f-5fa2-4755-9287-570abebf51cb",
   "metadata": {},
   "outputs": [
    {
     "name": "stdout",
     "output_type": "stream",
     "text": [
      "The snakeviz extension is already loaded. To reload it, use:\n",
      "  %reload_ext snakeviz\n"
     ]
    }
   ],
   "source": [
    "load_ext snakeviz\n"
   ]
  },
  {
   "cell_type": "code",
   "execution_count": 1,
   "id": "7f49ed17-e595-4015-a71c-724a93c26716",
   "metadata": {},
   "outputs": [],
   "source": [
    "import shlex\n",
    "import subprocess"
   ]
  },
  {
   "cell_type": "code",
   "execution_count": 2,
   "id": "19345f77-1cdb-45aa-9518-70847ce9748f",
   "metadata": {},
   "outputs": [],
   "source": [
    "cmd = \"python3.11 -m cProfile -s cumulative -o test_pipeline.prof test_pipeline.py\"\n",
    "args = shlex.split(cmd)\n",
    "call = subprocess.Popen(args)"
   ]
  },
  {
   "cell_type": "code",
   "execution_count": 5,
   "id": "9baee54e-9dbc-45a2-a840-02130971d8eb",
   "metadata": {},
   "outputs": [],
   "source": [
    "cmd = \"snakeviz -H 0.0.0.0 -p 8888 -s test_pipeline.prof\"\n",
    "args = shlex.split(cmd)\n",
    "call = subprocess.Popen(args)"
   ]
  },
  {
   "cell_type": "code",
   "execution_count": null,
   "id": "287d99c9-946b-4ca0-aeda-90d8d2b33922",
   "metadata": {},
   "outputs": [],
   "source": []
  }
 ],
 "metadata": {
  "kernelspec": {
   "display_name": "Python 3 (ipykernel)",
   "language": "python",
   "name": "python3"
  },
  "language_info": {
   "codemirror_mode": {
    "name": "ipython",
    "version": 3
   },
   "file_extension": ".py",
   "mimetype": "text/x-python",
   "name": "python",
   "nbconvert_exporter": "python",
   "pygments_lexer": "ipython3",
   "version": "3.11.3"
  }
 },
 "nbformat": 4,
 "nbformat_minor": 5
}
