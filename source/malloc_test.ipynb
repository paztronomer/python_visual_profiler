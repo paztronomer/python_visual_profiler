{
 "cells": [
  {
   "cell_type": "code",
   "execution_count": 1,
   "id": "556b278a-c48d-4cd3-b0e3-35ff7e5b989d",
   "metadata": {},
   "outputs": [],
   "source": [
    "import traceMalloc_test as tm\n",
    "import tracemalloc"
   ]
  },
  {
   "cell_type": "code",
   "execution_count": null,
   "id": "8b8f0f2f-0979-49b9-82f7-b5f3e85187f6",
   "metadata": {},
   "outputs": [],
   "source": [
    "tracemalloc.start()\n",
    "snapshot = tracemalloc.take_snapshot()\n",
    "tm.display_top(snapshot)"
   ]
  }
 ],
 "metadata": {
  "kernelspec": {
   "display_name": "Python 3 (ipykernel)",
   "language": "python",
   "name": "python3"
  },
  "language_info": {
   "codemirror_mode": {
    "name": "ipython",
    "version": 3
   },
   "file_extension": ".py",
   "mimetype": "text/x-python",
   "name": "python",
   "nbconvert_exporter": "python",
   "pygments_lexer": "ipython3",
   "version": "3.11.3"
  }
 },
 "nbformat": 4,
 "nbformat_minor": 5
}
